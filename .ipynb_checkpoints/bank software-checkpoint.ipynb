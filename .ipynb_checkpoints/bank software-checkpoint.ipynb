{
 "cells": [
  {
   "cell_type": "code",
   "execution_count": null,
   "metadata": {},
   "outputs": [],
   "source": [
    "from getpass import getpass\n",
    "string=\"welcome\"\n",
    "new_string=string.center(100,\"*\")\n",
    "user1={\"name\":\"john\",\"account-no\":3253646764,\"password\":\"@john@\",\"amount\":34532}\n",
    "user2={\"name\":\"sahil\",\"account_no\":342145678,\"password\":\"@sahil@\",\"amount\":5436}\n",
    "user3={\"name\":\"shreya\",\"account_no\":645448665,\"password\":\"@shreya@\",\"amount\":543096}\n",
    "user4={\"name\":\"kajal\",\"account_no\":37853221,\"password\":\"@kajal@\",\"amount\":543}\n",
    "print(\"\",new_string)\n",
    "print(\"1.login\")\n",
    "print(\"2.sign up\")\n",
    "print(\"3.exit\")\n",
    "choice=int(input(\"enter your choice\"))\n",
    "if(choice==1):\n",
    "    password=getpass(input(\"enter your password : \"))\n",
    "    if password==\"@sahil@\" or \"@john@\" or \"@shreya@\" or \"@kajal@\":\n",
    "        print(data)\n",
    "        print(\"1.debit\")\n",
    "        print(\"2.credit\")\n",
    "        print(\"3.checkbalance\")\n",
    "        print(\"4.update passbook\")\n",
    "        choice=int(input(\"enter a choice\"))\n",
    "        if(choice==1):\n",
    "            print(input(\"how many amount you want to debited : \"))\n",
    "            print(input(\"enter your password\"))\n",
    "            print(\"your amount is debited\")\n",
    "        elif(choice==2):\n",
    "            print(input(\"how many amount you want to credited\"))\n",
    "            print(input(\"enter your password\"))\n",
    "            print(\"your amount is credited\")\n",
    "        elif(choice==3):\n",
    "            print(input(\"enter password\"))\n",
    "            print(\"your balance is : \")\n",
    "        elif(choice==4):\n",
    "            print(\"your passbook is updated\")\n",
    "    else:\n",
    "        print(\"password is invalid\")\n",
    "elif (choice==2):\n",
    "    print(\"sign up your account\")\n",
    "    input(\"enter your name : \")\n",
    "    input(\"enter your password : \")\n",
    "    input(\"enter your OTP : \")\n",
    "    print(\"congrutulation! you have signup successfully\")\n",
    "    flag=1\n",
    "    account_no = 1000+flag\n",
    "    print(\"your account no is : \",account_no)\n",
    "elif (choice == 3):\n",
    "    print(\".......................thanks! for using bank service..........................\")\n",
    "    \n",
    "    \n",
    "     \n",
    "\n"
   ]
  },
  {
   "cell_type": "code",
   "execution_count": null,
   "metadata": {},
   "outputs": [],
   "source": [
    "user1={\"name\":\"john\",\"account-no\":3253646764,\"password\":\"@john@\",\"amount\":34532}\n",
    "user2={\"name\":\"sahil\",\"account_no\":342145678,\"password\":\"@sahil@\",\"amount\":5436}\n",
    "user3={\"name\":\"shreya\",\"account_no\":645448665,\"password\":\"@shreya@\",\"amount\":543096}\n",
    "user4={\"name\":\"kajal\",\"account_no\":37853221,\"password\":\"@kajal@\",\"amount\":543}\n",
    "\n",
    "import shelve\n",
    "db= shelve.open(\"databaseofbank/bank.db.db\")\n",
    "db['1001']=user1\n",
    "db['1002']=user2\n",
    "db['1003']=user3\n",
    "db['1004']=user4\n",
    "\n",
    "db[\"last account\"]=1004\n",
    "db.close()\n"
   ]
  }
 ],
 "metadata": {
  "kernelspec": {
   "display_name": "Python 3",
   "language": "python",
   "name": "python3"
  },
  "language_info": {
   "codemirror_mode": {
    "name": "ipython",
    "version": 3
   },
   "file_extension": ".py",
   "mimetype": "text/x-python",
   "name": "python",
   "nbconvert_exporter": "python",
   "pygments_lexer": "ipython3",
   "version": "3.6.4"
  }
 },
 "nbformat": 4,
 "nbformat_minor": 2
}
