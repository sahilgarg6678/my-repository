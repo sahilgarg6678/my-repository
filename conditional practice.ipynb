{
 "cells": [
  {
   "cell_type": "code",
   "execution_count": 2,
   "metadata": {},
   "outputs": [
    {
     "name": "stdout",
     "output_type": "stream",
     "text": [
      "hello world\n",
      "bye\n"
     ]
    }
   ],
   "source": [
    " while True:\n",
    "    print(\"hello world\")\n",
    "    print(\"bye\")\n",
    "    break\n",
    "    "
   ]
  },
  {
   "cell_type": "code",
   "execution_count": 3,
   "metadata": {},
   "outputs": [
    {
     "name": "stdout",
     "output_type": "stream",
     "text": [
      "hello world\n",
      "hello world\n"
     ]
    }
   ],
   "source": [
    "i = 1\n",
    "while i<=2:\n",
    "    print(\"hello world\")\n",
    "    i=i+1\n",
    "    "
   ]
  },
  {
   "cell_type": "code",
   "execution_count": 4,
   "metadata": {},
   "outputs": [
    {
     "ename": "SyntaxError",
     "evalue": "EOL while scanning string literal (<ipython-input-4-e57b5c04e802>, line 3)",
     "output_type": "error",
     "traceback": [
      "\u001b[1;36m  File \u001b[1;32m\"<ipython-input-4-e57b5c04e802>\"\u001b[1;36m, line \u001b[1;32m3\u001b[0m\n\u001b[1;33m    print(f\"{c:>5}  {c**2:>5} )\u001b[0m\n\u001b[1;37m                               ^\u001b[0m\n\u001b[1;31mSyntaxError\u001b[0m\u001b[1;31m:\u001b[0m EOL while scanning string literal\n"
     ]
    }
   ],
   "source": [
    "c = 1\n",
    "while c <= 10:\n",
    "     print(f\"{c:>5}  {c**2:>5} )\n",
    "     c=c+1"
   ]
  },
  {
   "cell_type": "code",
   "execution_count": null,
   "metadata": {},
   "outputs": [],
   "source": [
    "c = 1\n",
    "while c <= 10:\n",
    "     print(f\"{c}  |  {c**2:>5}   |   {c**3:>5}  \" )\n",
    "     c=c+1"
   ]
  },
  {
   "cell_type": "code",
   "execution_count": null,
   "metadata": {},
   "outputs": [],
   "source": [
    "# write a program to print table of a no\n",
    "c=1\n",
    "while c<=10:\n",
    "    print(f\"{5} * {c:<5}  = {5 * c}\")\n",
    "    c=c+1\n",
    "else:\n",
    "    print(\"print successfully\")"
   ]
  },
  {
   "cell_type": "code",
   "execution_count": null,
   "metadata": {},
   "outputs": [],
   "source": [
    "num=int(input(\"enter the no\"))\n",
    "c=1\n",
    "while c<=10:\n",
    "    print(f\" {c} * {num} = {c*num}\")\n",
    "    c=c+1"
   ]
  },
  {
   "cell_type": "code",
   "execution_count": null,
   "metadata": {},
   "outputs": [],
   "source": [
    "c=1\n",
    "while c<=10:\n",
    "    print(f\" {c} + {num} = {c+num}\")\n",
    "    c=c+1\n",
    "    "
   ]
  },
  {
   "cell_type": "code",
   "execution_count": null,
   "metadata": {},
   "outputs": [],
   "source": [
    "n=int(input(\"enter the no\"))\n",
    "c=1\n",
    "while c<=10:\n",
    "    print(f\" {c} + {n} = {c+n}\")\n",
    "    c=c+1\n",
    "    "
   ]
  },
  {
   "cell_type": "code",
   "execution_count": null,
   "metadata": {},
   "outputs": [],
   "source": [
    "c=1\n",
    "n=int(input(\"enter the no\"))\n",
    "s=0\n",
    "while c<=10:\n",
    "    print(f\"{s} + {n}  = {s+n}\")\n",
    "    s=s+n\n",
    "    c=c+1     "
   ]
  },
  {
   "cell_type": "code",
   "execution_count": null,
   "metadata": {},
   "outputs": [],
   "source": [
    "#print from 1-100 all odd no \n",
    "c =100\n",
    "while c>=1:\n",
    "    \n",
    "    print(c)\n",
    "    c=c-1"
   ]
  },
  {
   "cell_type": "code",
   "execution_count": null,
   "metadata": {},
   "outputs": [],
   "source": [
    "c=100\n",
    "while c>=1 :\n",
    "    if c%2!=0 :\n",
    "        print(c,end=\",\")\n",
    "    c=c-1\n",
    "else:\n",
    "    print(\"loop is end\")"
   ]
  },
  {
   "cell_type": "code",
   "execution_count": null,
   "metadata": {},
   "outputs": [],
   "source": [
    "#print all no bw 1 to 100 which is devided by 5 and 7\n",
    "c=1\n",
    "while c<=100:\n",
    "    if(c % 5 == 0 andc % 7 == 0):\n",
    "        print(c)\n",
    "        c=c+1"
   ]
  },
  {
   "cell_type": "code",
   "execution_count": null,
   "metadata": {},
   "outputs": [],
   "source": [
    "#print all no bw 1 to 100 which is devided by 5 and 7\n",
    "c=1\n",
    "while c <= 100:\n",
    "    if c % 5 == 0 and c % 7 == 0 :\n",
    "        print(c)\n",
    "        c = c+1"
   ]
  },
  {
   "cell_type": "code",
   "execution_count": null,
   "metadata": {},
   "outputs": [],
   "source": [
    "#print all no bw 1 to 100 which is devided by 5 and 7\n",
    "c=1\n",
    "while c<=100:\n",
    "    if(c % 5 == 0 and c % 7 == 0):\n",
    "        print(c)\n",
    "        c=c+1"
   ]
  },
  {
   "cell_type": "code",
   "execution_count": null,
   "metadata": {},
   "outputs": [],
   "source": [
    "#print all no bw 1 to 100 which is devided by 5 and 7\n",
    "c=1\n",
    "while c<=100:\n",
    "    if(c % 5 == 0 and c % 7 == 0):\n",
    "        print(c)\n",
    "    c=c+1"
   ]
  },
  {
   "cell_type": "code",
   "execution_count": null,
   "metadata": {},
   "outputs": [],
   "source": [
    "#print all no bw 1 to 100 which is devided by 5 and 7\n",
    "c=1\n",
    "while c <= 100:\n",
    "    if(c % 5 == 0 and c % 7 == 0):\n",
    "        print(c)\n",
    "    c=c+1"
   ]
  },
  {
   "cell_type": "code",
   "execution_count": null,
   "metadata": {},
   "outputs": [],
   "source": [
    "#print 10 random no\n",
    "from random import randint\n",
    "c=1\n",
    "while c <= 10 :\n",
    "    print(randint(1,100),end=\",\")\n",
    "    c=c+1\n",
    "    "
   ]
  },
  {
   "cell_type": "code",
   "execution_count": null,
   "metadata": {},
   "outputs": [],
   "source": [
    "from random import randint\n",
    "c=1\n",
    "while c<=10:\n",
    "    print(randint(1,10))\n",
    "    c=c+1"
   ]
  },
  {
   "cell_type": "code",
   "execution_count": null,
   "metadata": {},
   "outputs": [],
   "source": [
    "c=1\n",
    "while c<=10:\n",
    "    if c==5:\n",
    "        break     \n",
    "    print(c)\n",
    "    c=c+1"
   ]
  },
  {
   "cell_type": "code",
   "execution_count": null,
   "metadata": {},
   "outputs": [],
   "source": []
  },
  {
   "cell_type": "code",
   "execution_count": null,
   "metadata": {},
   "outputs": [],
   "source": [
    "num=int(input(\"enter the no\"))\n",
    "while num :\n",
    "    if num>=1 and num<=50 :\n",
    "        print('Hello world')\n",
    "        num=int(input(\"enter the no\"))\n",
    "    else :\n",
    "        print(\"bye world\")\n",
    "        break\n",
    "        \n",
    "     "
   ]
  },
  {
   "cell_type": "code",
   "execution_count": 3,
   "metadata": {},
   "outputs": [
    {
     "name": "stdout",
     "output_type": "stream",
     "text": [
      " **********************************************welcome***********************************************\n",
      "1.login\n",
      "2.sign up\n",
      "3.exit\n",
      "enter your choice1\n",
      "enter your password : @sahil@\n",
      "{'name': 'kajal', 'account_no': 37853221, 'password': '@kajal@', 'amount': 543}\n",
      "1.debit\n",
      "2.credit\n",
      "3.checkbalance\n",
      "4.update passbook\n",
      "enter a choice\n"
     ]
    },
    {
     "ename": "ValueError",
     "evalue": "invalid literal for int() with base 10: ''",
     "output_type": "error",
     "traceback": [
      "\u001b[1;31m---------------------------------------------------------------------------\u001b[0m",
      "\u001b[1;31mValueError\u001b[0m                                Traceback (most recent call last)",
      "\u001b[1;32m<ipython-input-3-29eae4561c6d>\u001b[0m in \u001b[0;36m<module>\u001b[1;34m()\u001b[0m\n\u001b[0;32m     19\u001b[0m         \u001b[0mprint\u001b[0m\u001b[1;33m(\u001b[0m\u001b[1;34m\"3.checkbalance\"\u001b[0m\u001b[1;33m)\u001b[0m\u001b[1;33m\u001b[0m\u001b[0m\n\u001b[0;32m     20\u001b[0m         \u001b[0mprint\u001b[0m\u001b[1;33m(\u001b[0m\u001b[1;34m\"4.update passbook\"\u001b[0m\u001b[1;33m)\u001b[0m\u001b[1;33m\u001b[0m\u001b[0m\n\u001b[1;32m---> 21\u001b[1;33m         \u001b[0mchoice\u001b[0m\u001b[1;33m=\u001b[0m\u001b[0mint\u001b[0m\u001b[1;33m(\u001b[0m\u001b[0minput\u001b[0m\u001b[1;33m(\u001b[0m\u001b[1;34m\"enter a choice\"\u001b[0m\u001b[1;33m)\u001b[0m\u001b[1;33m)\u001b[0m\u001b[1;33m\u001b[0m\u001b[0m\n\u001b[0m\u001b[0;32m     22\u001b[0m         \u001b[1;32mif\u001b[0m\u001b[1;33m(\u001b[0m\u001b[0mchoice\u001b[0m\u001b[1;33m==\u001b[0m\u001b[1;36m1\u001b[0m\u001b[1;33m)\u001b[0m\u001b[1;33m:\u001b[0m\u001b[1;33m\u001b[0m\u001b[0m\n\u001b[0;32m     23\u001b[0m             \u001b[0mprint\u001b[0m\u001b[1;33m(\u001b[0m\u001b[0minput\u001b[0m\u001b[1;33m(\u001b[0m\u001b[1;34m\"how many amount you want to debited : \"\u001b[0m\u001b[1;33m)\u001b[0m\u001b[1;33m)\u001b[0m\u001b[1;33m\u001b[0m\u001b[0m\n",
      "\u001b[1;31mValueError\u001b[0m: invalid literal for int() with base 10: ''"
     ]
    }
   ],
   "source": [
    "import getpass\n",
    "string=\"welcome\"\n",
    "new_string=string.center(100,\"*\")\n",
    "data={\"name\":\"john\",\"account-no\":3253646764,\"password\":\"@john@\",\"amount\":34532}\n",
    "data={\"name\":\"sahil\",\"account_no\":342145678,\"password\":\"@sahil@\",\"amount\":5436}\n",
    "data={\"name\":\"shreya\",\"account_no\":645448665,\"password\":\"@shreya@\",\"amount\":543096}\n",
    "data={\"name\":\"kajal\",\"account_no\":37853221,\"password\":\"@kajal@\",\"amount\":543}\n",
    "print(\"\",new_string)\n",
    "print(\"1.login\")\n",
    "print(\"2.sign up\")\n",
    "print(\"3.exit\")\n",
    "choice=int(input(\"enter your choice\"))\n",
    "if(choice==1):\n",
    "    password=input(\"enter your password : \")\n",
    "    if password==\"@sahil@\" :\n",
    "        print(data)\n",
    "        print(\"1.debit\")\n",
    "        print(\"2.credit\")\n",
    "        print(\"3.checkbalance\")\n",
    "        print(\"4.update passbook\")\n",
    "        choice=int(input(\"enter a choice\"))\n",
    "        if(choice==1):\n",
    "            print(input(\"how many amount you want to debited : \"))\n",
    "            print(input(\"enter your password\"))\n",
    "            print(\"your amount is debited\")\n",
    "        elif(choice==2):\n",
    "            print(input(\"how many amount you want to credited\"))\n",
    "            print(input(\"enter your password\"))\n",
    "            print(\"your amount is credited\")\n",
    "        elif(choice==3):\n",
    "            print(input(\"enter password\"))\n",
    "            print(\"your balance is : \")\n",
    "        elif(choice==4):\n",
    "            print(\"your passbook is updated\")\n",
    "    else:\n",
    "        print(\"password is invalid\")\n",
    "elif (choice==2):\n",
    "    print(\"sign up your account\")\n",
    "    input(\"enter your name : \")\n",
    "    input(\"enter your password : \")\n",
    "    input(\"enter your OTP : \")\n",
    "    print(\"congrutulation! you have signup successfully\")\n",
    "    flag=1\n",
    "    account_no = 1000+flag\n",
    "    print(\"your account no is : \",account_no)\n",
    "elif (choice == 3):\n",
    "    print(\".......................thanks! for using bank service..........................\")\n",
    "    \n",
    "    \n",
    "     \n",
    "\n"
   ]
  },
  {
   "cell_type": "code",
   "execution_count": 4,
   "metadata": {},
   "outputs": [
    {
     "ename": "SyntaxError",
     "evalue": "invalid syntax (<ipython-input-4-9ee7898fb7a3>, line 2)",
     "output_type": "error",
     "traceback": [
      "\u001b[1;36m  File \u001b[1;32m\"<ipython-input-4-9ee7898fb7a3>\"\u001b[1;36m, line \u001b[1;32m2\u001b[0m\n\u001b[1;33m    l=[randint(1,5) for variable in range 10]\u001b[0m\n\u001b[1;37m                                           ^\u001b[0m\n\u001b[1;31mSyntaxError\u001b[0m\u001b[1;31m:\u001b[0m invalid syntax\n"
     ]
    }
   ],
   "source": [
    "from random import randint\n",
    "l=[randint(1,5) for variable in range 10]\n",
    "r=[]\n",
    "    "
   ]
  },
  {
   "cell_type": "code",
   "execution_count": 6,
   "metadata": {},
   "outputs": [
    {
     "name": "stdout",
     "output_type": "stream",
     "text": [
      "enter thr no5\n",
      "5 10 15 20 25 30 35 40 45 50\n"
     ]
    }
   ],
   "source": [
    "num = int(input(\"enter thr no\"))\n",
    "print(*range(num,num*10+1,num))"
   ]
  },
  {
   "cell_type": "code",
   "execution_count": null,
   "metadata": {},
   "outputs": [],
   "source": [
    "#swap two no\n",
    "print(input(\"enter the no you want to swap\"))\n",
    "print(input(\"enter the second no\"))\n",
    "x,y,z\n",
    "x=y\n",
    "y=z\n",
    "\n"
   ]
  },
  {
   "cell_type": "code",
   "execution_count": 1,
   "metadata": {},
   "outputs": [
    {
     "name": "stdout",
     "output_type": "stream",
     "text": [
      "5\n",
      "2\n"
     ]
    }
   ],
   "source": [
    "x=2\n",
    "y=5\n",
    "x,y=y,x\n",
    "print(x)\n",
    "print(y)\n",
    "\n"
   ]
  },
  {
   "cell_type": "code",
   "execution_count": 2,
   "metadata": {},
   "outputs": [],
   "source": [
    "##for swapping\n",
    "x=x+y\n",
    "y=x-y\n",
    "x=x-y"
   ]
  },
  {
   "cell_type": "code",
   "execution_count": 5,
   "metadata": {},
   "outputs": [
    {
     "data": {
      "text/plain": [
       "True"
      ]
     },
     "execution_count": 5,
     "metadata": {},
     "output_type": "execute_result"
    }
   ],
   "source": [
    "any([\"\",0,True])"
   ]
  },
  {
   "cell_type": "code",
   "execution_count": 1,
   "metadata": {},
   "outputs": [
    {
     "name": "stdout",
     "output_type": "stream",
     "text": [
      "List Iteration\n",
      "geeks\n",
      "for\n",
      "geeks\n"
     ]
    }
   ],
   "source": [
    "# Python program to illustrate \n",
    "# Iterating over a list \n",
    "print(\"List Iteration\") \n",
    "l = [\"geeks\", \"for\", \"geeks\"] \n",
    "for i in l: \n",
    "    print(i) "
   ]
  },
  {
   "cell_type": "code",
   "execution_count": 3,
   "metadata": {},
   "outputs": [
    {
     "name": "stdout",
     "output_type": "stream",
     "text": [
      "\n",
      "Dictionary Iteration\n",
      "xyz\n",
      "abc\n"
     ]
    }
   ],
   "source": [
    "# Iterating over dictionary \n",
    "print(\"\\nDictionary Iteration\")    \n",
    "d = dict()  \n",
    "d['xyz'] = 123\n",
    "d['abc'] = 345\n",
    "for i in d : \n",
    "    print()  "
   ]
  },
  {
   "cell_type": "code",
   "execution_count": 12,
   "metadata": {},
   "outputs": [
    {
     "name": "stdout",
     "output_type": "stream",
     "text": [
      "\n",
      "Dictionary Iteration\n",
      "xyz  123\n",
      "abc  345\n"
     ]
    }
   ],
   "source": [
    "# Iterating over dictionary \n",
    "print(\"\\nDictionary Iteration\")    \n",
    "d = dict()  \n",
    "d['xyz'] = 123\n",
    "d['abc'] = 345\n",
    "for i in d : \n",
    "    print(\"%s  %d\" %(i, d[i]) ) "
   ]
  },
  {
   "cell_type": "code",
   "execution_count": null,
   "metadata": {},
   "outputs": [
    {
     "name": "stdout",
     "output_type": "stream",
     "text": [
      "1\n",
      "2\n",
      "3\n",
      "4\n"
     ]
    }
   ],
   "source": [
    "c=1\n",
    "while c<=10:\n",
    "    if c<5:\n",
    "        print(c)\n",
    "        c=c+1"
   ]
  },
  {
   "cell_type": "code",
   "execution_count": null,
   "metadata": {},
   "outputs": [],
   "source": [
    "c=1\n",
    "while c<=10:\n",
    "    if c==5:\n",
    "        print(c)\n",
    "        c=c+1\n",
    "        "
   ]
  },
  {
   "cell_type": "code",
   "execution_count": null,
   "metadata": {},
   "outputs": [
    {
     "name": "stdout",
     "output_type": "stream",
     "text": [
      "1\n",
      "2\n",
      "3\n",
      "4\n"
     ]
    }
   ],
   "source": [
    "c=1\n",
    "while c<=10:\n",
    "    if c<5:\n",
    "        print(c)\n",
    "        c=c+1"
   ]
  },
  {
   "cell_type": "code",
   "execution_count": 2,
   "metadata": {},
   "outputs": [
    {
     "name": "stdout",
     "output_type": "stream",
     "text": [
      "1\n",
      "2\n",
      "3\n",
      "4\n"
     ]
    }
   ],
   "source": [
    "c=1\n",
    "while c<=10:\n",
    "    if c==5:\n",
    "        break\n",
    "    print(c)\n",
    "    c=c+1\n",
    "else:\n",
    "        print(\"bye\")\n",
    "    "
   ]
  },
  {
   "cell_type": "code",
   "execution_count": 3,
   "metadata": {},
   "outputs": [
    {
     "ename": "SyntaxError",
     "evalue": "invalid syntax (<ipython-input-3-d43776bdeb12>, line 1)",
     "output_type": "error",
     "traceback": [
      "\u001b[1;36m  File \u001b[1;32m\"<ipython-input-3-d43776bdeb12>\"\u001b[1;36m, line \u001b[1;32m1\u001b[0m\n\u001b[1;33m    while :\u001b[0m\n\u001b[1;37m          ^\u001b[0m\n\u001b[1;31mSyntaxError\u001b[0m\u001b[1;31m:\u001b[0m invalid syntax\n"
     ]
    }
   ],
   "source": [
    "while :\n",
    "    n=int(input(\"enter a no\"))\n",
    "    if(n>=1 or n<=50)\n",
    "        print(\"hello\")\n",
    "    else:\n",
    "        print(\"\")\n",
    "    "
   ]
  },
  {
   "cell_type": "code",
   "execution_count": 13,
   "metadata": {},
   "outputs": [
    {
     "name": "stdout",
     "output_type": "stream",
     "text": [
      "anish\n",
      "singh\n",
      "sahil\n"
     ]
    }
   ],
   "source": [
    "l=[\"anish\",\"singh\",\"sahil\"]\n",
    "for gg in l:\n",
    "      print(gg)"
   ]
  },
  {
   "cell_type": "code",
   "execution_count": null,
   "metadata": {},
   "outputs": [],
   "source": [
    "\n",
    "while input(\"print any key\"):\n",
    "    print(\"hello\")\n",
    "else:\n",
    "    print(\"hi\")"
   ]
  },
  {
   "cell_type": "markdown",
   "metadata": {},
   "source": [
    "\n",
    "    "
   ]
  },
  {
   "cell_type": "code",
   "execution_count": null,
   "metadata": {},
   "outputs": [],
   "source": [
    "c=1\n",
    "while c<=10:\n",
    "    if c%2==0:\n",
    "        print(c)\n",
    "        c=c+1 \n",
    "    else:\n",
    "        print(\"success\")\n",
    "    "
   ]
  },
  {
   "cell_type": "code",
   "execution_count": 4,
   "metadata": {},
   "outputs": [
    {
     "name": "stdout",
     "output_type": "stream",
     "text": [
      "0\n",
      "2\n",
      "4\n"
     ]
    }
   ],
   "source": [
    "c=0\n",
    "while c<6:\n",
    "    if c % 2 == 0:\n",
    "        print(c)\n",
    "        c=c+1 \n",
    "    else:\n",
    "        c=c+1\n",
    "        continue"
   ]
  },
  {
   "cell_type": "code",
   "execution_count": 8,
   "metadata": {},
   "outputs": [
    {
     "name": "stdout",
     "output_type": "stream",
     "text": [
      "enter the no7\n",
      "--------------------------------------------------------------------------------\n",
      " 7 | 2  |  3 1\n"
     ]
    },
    {
     "ename": "TypeError",
     "evalue": "print() argument after * must be an iterable, not int",
     "output_type": "error",
     "traceback": [
      "\u001b[1;31m---------------------------------------------------------------------------\u001b[0m",
      "\u001b[1;31mTypeError\u001b[0m                                 Traceback (most recent call last)",
      "\u001b[1;32m<ipython-input-8-a84fc70daed7>\u001b[0m in \u001b[0;36m<module>\u001b[1;34m()\u001b[0m\n\u001b[0;32m      5\u001b[0m \u001b[1;32mwhile\u001b[0m \u001b[0mstart\u001b[0m \u001b[1;33m<=\u001b[0m \u001b[0mend\u001b[0m \u001b[1;33m:\u001b[0m\u001b[1;33m\u001b[0m\u001b[0m\n\u001b[0;32m      6\u001b[0m     \u001b[0mprint\u001b[0m\u001b[1;33m(\u001b[0m\u001b[1;34mf\" {num} | {start}  |  {num//start} {num %start}\"\u001b[0m \u001b[1;33m)\u001b[0m\u001b[1;33m\u001b[0m\u001b[0m\n\u001b[1;32m----> 7\u001b[1;33m     \u001b[0mprint\u001b[0m\u001b[1;33m(\u001b[0m\u001b[1;34m\"_\"\u001b[0m\u001b[1;33m,\u001b[0m\u001b[1;33m*\u001b[0m\u001b[1;36m20\u001b[0m\u001b[1;33m)\u001b[0m\u001b[1;33m\u001b[0m\u001b[0m\n\u001b[0m\u001b[0;32m      8\u001b[0m     \u001b[0mstart\u001b[0m\u001b[1;33m=\u001b[0m\u001b[0mstart\u001b[0m\u001b[1;33m+\u001b[0m\u001b[1;36m1\u001b[0m\u001b[1;33m\u001b[0m\u001b[0m\n\u001b[0;32m      9\u001b[0m \u001b[0mprint\u001b[0m\u001b[1;33m(\u001b[0m\u001b[1;34m\"got it\"\u001b[0m\u001b[1;33m)\u001b[0m\u001b[1;33m\u001b[0m\u001b[0m\n",
      "\u001b[1;31mTypeError\u001b[0m: print() argument after * must be an iterable, not int"
     ]
    }
   ],
   "source": [
    "num = int(input(\"enter the no\"))\n",
    "start=2\n",
    "end = num-1\n",
    "print(\"-\"*80)\n",
    "while start <= end :\n",
    "    print(f\" {num} | {start}  |  {num//start} {num %start}\" )\n",
    "    print(\"_\",*20)\n",
    "    start=start+1\n",
    "print(\"got it\")         "
   ]
  },
  {
   "cell_type": "code",
   "execution_count": 11,
   "metadata": {},
   "outputs": [
    {
     "name": "stdout",
     "output_type": "stream",
     "text": [
      "enter the no13\n",
      "given no  is prime\n"
     ]
    }
   ],
   "source": [
    "from math import sqrt,ceil\n",
    "num = int(input(\"enter the no\"))\n",
    "start=2\n",
    "end = ceil(sqrt(num))\n",
    "while start<=end:\n",
    "    if num%start==0:\n",
    "        print(\"given no is not a prime\")\n",
    "        break\n",
    "    start=start+1\n",
    "else:\n",
    "    print(\"given no  is prime\")"
   ]
  },
  {
   "cell_type": "code",
   "execution_count": 12,
   "metadata": {},
   "outputs": [
    {
     "name": "stdout",
     "output_type": "stream",
     "text": [
      "Enter start Point : 1\n",
      "Enter ending Point20\n",
      "1, 3, 5, 7, 11, 13, 17, 19, \n",
      "Total Prime in Range(1,20) = 8\n"
     ]
    }
   ],
   "source": [
    "from math import sqrt,ceil\n",
    "counting = 0\n",
    "counter_start = int(input(\"Enter start Point : \"))\n",
    "counter_end = int(input(\"Enter ending Point\"))\n",
    "counter = counter_start\n",
    "while counter <= counter_end : \n",
    "    num = counter\n",
    "    start = 2\n",
    "    end = ceil(sqrt(num))\n",
    "    while start <= end :  \n",
    "        if num % start == 0 : \n",
    "            break\n",
    "        start += 1\n",
    "    else : \n",
    "        counting += 1\n",
    "        print(num,end=', ')\n",
    "    counter += 1\n",
    "print(f\"\\nTotal Prime in Range({counter_start},{counter_end}) = {counting}\")"
   ]
  },
  {
   "cell_type": "code",
   "execution_count": 17,
   "metadata": {},
   "outputs": [
    {
     "ename": "ImportError",
     "evalue": "cannot import name 'squrt'",
     "output_type": "error",
     "traceback": [
      "\u001b[1;31m---------------------------------------------------------------------------\u001b[0m",
      "\u001b[1;31mImportError\u001b[0m                               Traceback (most recent call last)",
      "\u001b[1;32m<ipython-input-17-f80abd2a964e>\u001b[0m in \u001b[0;36m<module>\u001b[1;34m()\u001b[0m\n\u001b[1;32m----> 1\u001b[1;33m \u001b[1;32mfrom\u001b[0m \u001b[0mmath\u001b[0m \u001b[1;32mimport\u001b[0m \u001b[0msqurt\u001b[0m\u001b[1;33m,\u001b[0m\u001b[0mceil\u001b[0m\u001b[1;33m\u001b[0m\u001b[0m\n\u001b[0m\u001b[0;32m      2\u001b[0m \u001b[0mstart\u001b[0m\u001b[1;33m=\u001b[0m\u001b[0minput\u001b[0m\u001b[1;33m(\u001b[0m\u001b[1;34m\"enter the starting point\"\u001b[0m\u001b[1;33m)\u001b[0m\u001b[1;33m\u001b[0m\u001b[0m\n\u001b[0;32m      3\u001b[0m \u001b[0mend\u001b[0m\u001b[1;33m=\u001b[0m\u001b[0minput\u001b[0m\u001b[1;33m(\u001b[0m\u001b[1;34m\"enter the ending point\"\u001b[0m\u001b[1;33m)\u001b[0m\u001b[1;33m\u001b[0m\u001b[0m\n\u001b[0;32m      4\u001b[0m \u001b[0mstart\u001b[0m\u001b[1;33m=\u001b[0m\u001b[1;36m2\u001b[0m\u001b[1;33m\u001b[0m\u001b[0m\n\u001b[0;32m      5\u001b[0m \u001b[0mend\u001b[0m\u001b[1;33m=\u001b[0m\u001b[0mceil\u001b[0m\u001b[1;33m(\u001b[0m\u001b[0msqrt\u001b[0m\u001b[1;33m(\u001b[0m\u001b[0mend\u001b[0m\u001b[1;33m)\u001b[0m\u001b[1;33m)\u001b[0m\u001b[1;33m\u001b[0m\u001b[0m\n",
      "\u001b[1;31mImportError\u001b[0m: cannot import name 'squrt'"
     ]
    }
   ],
   "source": [
    "from math import squrt,ceil\n",
    "start=input(\"enter the starting point\")\n",
    "end=input(\"enter the ending point\")\n",
    "start=2\n",
    "end=ceil(sqrt(end))\n",
    "while start<=end:\n",
    "    if(start%2==0):\n",
    "        break\n",
    "    start=start+1\n",
    "else:\n",
    "        print(\"no is prime\")   \n",
    "    \n",
    "        \n",
    "    \n",
    "    "
   ]
  },
  {
   "cell_type": "code",
   "execution_count": 12,
   "metadata": {},
   "outputs": [
    {
     "name": "stdout",
     "output_type": "stream",
     "text": [
      "sshil \n",
      " garg\n"
     ]
    }
   ],
   "source": [
    "print(\"sshil \\n garg\")"
   ]
  },
  {
   "cell_type": "code",
   "execution_count": 13,
   "metadata": {},
   "outputs": [
    {
     "name": "stdout",
     "output_type": "stream",
     "text": [
      "garg\n",
      "sahil None\n"
     ]
    }
   ],
   "source": [
    "print(\"sahil\",print(\"garg\"))"
   ]
  },
  {
   "cell_type": "code",
   "execution_count": 15,
   "metadata": {},
   "outputs": [
    {
     "name": "stdout",
     "output_type": "stream",
     "text": [
      "\\\n"
     ]
    }
   ],
   "source": [
    "print(\"\\\\\")"
   ]
  },
  {
   "cell_type": "code",
   "execution_count": 20,
   "metadata": {},
   "outputs": [],
   "source": [
    "s=\"\"\"sahil \n",
    "garg\"\"\""
   ]
  },
  {
   "cell_type": "code",
   "execution_count": 22,
   "metadata": {},
   "outputs": [
    {
     "name": "stdout",
     "output_type": "stream",
     "text": [
      "sahil \n",
      "garg\n"
     ]
    }
   ],
   "source": [
    "print(s)\n"
   ]
  },
  {
   "cell_type": "code",
   "execution_count": null,
   "metadata": {},
   "outputs": [],
   "source": [
    "vars"
   ]
  }
 ],
 "metadata": {
  "kernelspec": {
   "display_name": "Python 3",
   "language": "python",
   "name": "python3"
  },
  "language_info": {
   "codemirror_mode": {
    "name": "ipython",
    "version": 3
   },
   "file_extension": ".py",
   "mimetype": "text/x-python",
   "name": "python",
   "nbconvert_exporter": "python",
   "pygments_lexer": "ipython3",
   "version": "3.6.4"
  }
 },
 "nbformat": 4,
 "nbformat_minor": 2
}
