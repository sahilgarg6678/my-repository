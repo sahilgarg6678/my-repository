{
 "cells": [
  {
   "cell_type": "code",
   "execution_count": 1,
   "metadata": {},
   "outputs": [
    {
     "name": "stdout",
     "output_type": "stream",
     "text": [
      "hello world\n",
      "bye\n"
     ]
    }
   ],
   "source": [
    " while True:\n",
    "    print(\"hello world\")\n",
    "    print(\"bye\")\n",
    "    break\n",
    "    "
   ]
  },
  {
   "cell_type": "code",
   "execution_count": 2,
   "metadata": {},
   "outputs": [
    {
     "name": "stdout",
     "output_type": "stream",
     "text": [
      "hello world\n",
      "hello world\n"
     ]
    }
   ],
   "source": [
    "i = 1\n",
    "while i<=2:\n",
    "    print(\"hello world\")\n",
    "    i=i+1\n",
    "    "
   ]
  },
  {
   "cell_type": "code",
   "execution_count": 11,
   "metadata": {},
   "outputs": [
    {
     "ename": "SyntaxError",
     "evalue": "EOL while scanning string literal (<ipython-input-11-42eb9c79e345>, line 3)",
     "output_type": "error",
     "traceback": [
      "\u001b[1;36m  File \u001b[1;32m\"<ipython-input-11-42eb9c79e345>\"\u001b[1;36m, line \u001b[1;32m3\u001b[0m\n\u001b[1;33m    print(f\"{c:>5}  {c**2:>5} )\u001b[0m\n\u001b[1;37m                               ^\u001b[0m\n\u001b[1;31mSyntaxError\u001b[0m\u001b[1;31m:\u001b[0m EOL while scanning string literal\n"
     ]
    }
   ],
   "source": [
    "c = 1\n",
    "while c <= 10:\n",
    "     print(f\"{c:>5}  {c**2:>5} )\n",
    "     c=c+1"
   ]
  },
  {
   "cell_type": "code",
   "execution_count": 32,
   "metadata": {},
   "outputs": [
    {
     "name": "stdout",
     "output_type": "stream",
     "text": [
      "1  |      1   |       1  \n",
      "2  |      4   |       8  \n",
      "3  |      9   |      27  \n",
      "4  |     16   |      64  \n",
      "5  |     25   |     125  \n",
      "6  |     36   |     216  \n",
      "7  |     49   |     343  \n",
      "8  |     64   |     512  \n",
      "9  |     81   |     729  \n",
      "10  |    100   |    1000  \n"
     ]
    }
   ],
   "source": [
    "c = 1\n",
    "while c <= 10:\n",
    "     print(f\"{c}  |  {c**2:>5}   |   {c**3:>5}  \" )\n",
    "     c=c+1"
   ]
  },
  {
   "cell_type": "code",
   "execution_count": 39,
   "metadata": {},
   "outputs": [
    {
     "name": "stdout",
     "output_type": "stream",
     "text": [
      "5 * 1      = 5\n",
      "5 * 2      = 10\n",
      "5 * 3      = 15\n",
      "5 * 4      = 20\n",
      "5 * 5      = 25\n",
      "5 * 6      = 30\n",
      "5 * 7      = 35\n",
      "5 * 8      = 40\n",
      "5 * 9      = 45\n",
      "5 * 10     = 50\n",
      "print successfully\n"
     ]
    }
   ],
   "source": [
    "# write a program to print table of a no\n",
    "c=1\n",
    "while c<=10:\n",
    "    print(f\"{5} * {c:<5}  = {5 * c}\")\n",
    "    c=c+1\n",
    "else:\n",
    "    print(\"print successfully\")"
   ]
  },
  {
   "cell_type": "code",
   "execution_count": 52,
   "metadata": {},
   "outputs": [
    {
     "name": "stdout",
     "output_type": "stream",
     "text": [
      "enter the no5\n",
      " 1 * 5 = 5\n",
      " 2 * 5 = 10\n",
      " 3 * 5 = 15\n",
      " 4 * 5 = 20\n",
      " 5 * 5 = 25\n",
      " 6 * 5 = 30\n",
      " 7 * 5 = 35\n",
      " 8 * 5 = 40\n",
      " 9 * 5 = 45\n",
      " 10 * 5 = 50\n"
     ]
    }
   ],
   "source": [
    "num=int(input(\"enter the no\"))\n",
    "c=1\n",
    "while c<=10:\n",
    "    print(f\" {c} * {num} = {c*num}\")\n",
    "    c=c+1"
   ]
  },
  {
   "cell_type": "code",
   "execution_count": 57,
   "metadata": {},
   "outputs": [
    {
     "name": "stdout",
     "output_type": "stream",
     "text": [
      " 1 + 5 = 6\n",
      " 2 + 5 = 7\n",
      " 3 + 5 = 8\n",
      " 4 + 5 = 9\n",
      " 5 + 5 = 10\n",
      " 6 + 5 = 11\n",
      " 7 + 5 = 12\n",
      " 8 + 5 = 13\n",
      " 9 + 5 = 14\n",
      " 10 + 5 = 15\n"
     ]
    }
   ],
   "source": [
    "c=1\n",
    "while c<=10:\n",
    "    print(f\" {c} + {num} = {c+num}\")\n",
    "    c=c+1\n",
    "    "
   ]
  },
  {
   "cell_type": "code",
   "execution_count": 63,
   "metadata": {},
   "outputs": [
    {
     "name": "stdout",
     "output_type": "stream",
     "text": [
      "enter the no6\n",
      " 1 + 6 = 7\n",
      " 2 + 6 = 8\n",
      " 3 + 6 = 9\n",
      " 4 + 6 = 10\n",
      " 5 + 6 = 11\n",
      " 6 + 6 = 12\n",
      " 7 + 6 = 13\n",
      " 8 + 6 = 14\n",
      " 9 + 6 = 15\n",
      " 10 + 6 = 16\n"
     ]
    }
   ],
   "source": [
    "n=int(input(\"enter the no\"))\n",
    "c=1\n",
    "while c<=10:\n",
    "    print(f\" {c} + {n} = {c+n}\")\n",
    "    c=c+1\n",
    "    "
   ]
  },
  {
   "cell_type": "code",
   "execution_count": 72,
   "metadata": {},
   "outputs": [
    {
     "name": "stdout",
     "output_type": "stream",
     "text": [
      "enter the no4\n",
      "0 + 4  = 4\n",
      "4 + 4  = 8\n",
      "8 + 4  = 12\n",
      "12 + 4  = 16\n",
      "16 + 4  = 20\n",
      "20 + 4  = 24\n",
      "24 + 4  = 28\n",
      "28 + 4  = 32\n",
      "32 + 4  = 36\n",
      "36 + 4  = 40\n"
     ]
    }
   ],
   "source": [
    "c=1\n",
    "n=int(input(\"enter the no\"))\n",
    "s=0\n",
    "while c<=10:\n",
    "    print(f\"{s} + {n}  = {s+n}\")\n",
    "    s=s+n\n",
    "    c=c+1     "
   ]
  },
  {
   "cell_type": "code",
   "execution_count": 1,
   "metadata": {},
   "outputs": [
    {
     "name": "stdout",
     "output_type": "stream",
     "text": [
      "100\n",
      "99\n",
      "98\n",
      "97\n",
      "96\n",
      "95\n",
      "94\n",
      "93\n",
      "92\n",
      "91\n",
      "90\n",
      "89\n",
      "88\n",
      "87\n",
      "86\n",
      "85\n",
      "84\n",
      "83\n",
      "82\n",
      "81\n",
      "80\n",
      "79\n",
      "78\n",
      "77\n",
      "76\n",
      "75\n",
      "74\n",
      "73\n",
      "72\n",
      "71\n",
      "70\n",
      "69\n",
      "68\n",
      "67\n",
      "66\n",
      "65\n",
      "64\n",
      "63\n",
      "62\n",
      "61\n",
      "60\n",
      "59\n",
      "58\n",
      "57\n",
      "56\n",
      "55\n",
      "54\n",
      "53\n",
      "52\n",
      "51\n",
      "50\n",
      "49\n",
      "48\n",
      "47\n",
      "46\n",
      "45\n",
      "44\n",
      "43\n",
      "42\n",
      "41\n",
      "40\n",
      "39\n",
      "38\n",
      "37\n",
      "36\n",
      "35\n",
      "34\n",
      "33\n",
      "32\n",
      "31\n",
      "30\n",
      "29\n",
      "28\n",
      "27\n",
      "26\n",
      "25\n",
      "24\n",
      "23\n",
      "22\n",
      "21\n",
      "20\n",
      "19\n",
      "18\n",
      "17\n",
      "16\n",
      "15\n",
      "14\n",
      "13\n",
      "12\n",
      "11\n",
      "10\n",
      "9\n",
      "8\n",
      "7\n",
      "6\n",
      "5\n",
      "4\n",
      "3\n",
      "2\n",
      "1\n"
     ]
    }
   ],
   "source": [
    "#print from 1-100 all odd no \n",
    "c =100\n",
    "while c>=1:\n",
    "    \n",
    "    print(c)\n",
    "    c=c-1"
   ]
  },
  {
   "cell_type": "code",
   "execution_count": 3,
   "metadata": {},
   "outputs": [
    {
     "name": "stdout",
     "output_type": "stream",
     "text": [
      "99,97,95,93,91,89,87,85,83,81,79,77,75,73,71,69,67,65,63,61,59,57,55,53,51,49,47,45,43,41,39,37,35,33,31,29,27,25,23,21,19,17,15,13,11,9,7,5,3,1,loop is end\n"
     ]
    }
   ],
   "source": [
    "c=100\n",
    "while c>=1 :\n",
    "    if c%2!=0 :\n",
    "        print(c,end=\",\")\n",
    "    c=c-1\n",
    "else:\n",
    "    print(\"loop is end\")"
   ]
  },
  {
   "cell_type": "code",
   "execution_count": null,
   "metadata": {},
   "outputs": [],
   "source": [
    "#print all no bw 1 to 100 which is devided by 5 and 7\n",
    "c=1\n",
    "while c<=100:\n",
    "    if(c % 5 == 0 andc % 7 == 0):\n",
    "        print(c)\n",
    "        c=c+1"
   ]
  },
  {
   "cell_type": "code",
   "execution_count": null,
   "metadata": {},
   "outputs": [],
   "source": [
    "#print all no bw 1 to 100 which is devided by 5 and 7\n",
    "c=1\n",
    "while c <= 100:\n",
    "    if c % 5 == 0 and c % 7 == 0 :\n",
    "        print(c)\n",
    "        c = c+1"
   ]
  },
  {
   "cell_type": "code",
   "execution_count": null,
   "metadata": {},
   "outputs": [],
   "source": [
    "#print all no bw 1 to 100 which is devided by 5 and 7\n",
    "c=1\n",
    "while c<=100:\n",
    "    if(c % 5 == 0 and c % 7 == 0):\n",
    "        print(c)\n",
    "        c=c+1"
   ]
  },
  {
   "cell_type": "code",
   "execution_count": null,
   "metadata": {},
   "outputs": [],
   "source": [
    "#print all no bw 1 to 100 which is devided by 5 and 7\n",
    "c=1\n",
    "while c<=100:\n",
    "    if(c % 5 == 0 and c % 7 == 0):\n",
    "        print(c)\n",
    "    c=c+1"
   ]
  },
  {
   "cell_type": "code",
   "execution_count": 2,
   "metadata": {},
   "outputs": [
    {
     "name": "stdout",
     "output_type": "stream",
     "text": [
      "35\n",
      "70\n"
     ]
    }
   ],
   "source": [
    "#print all no bw 1 to 100 which is devided by 5 and 7\n",
    "c=1\n",
    "while c <= 100:\n",
    "    if(c % 5 == 0 and c % 7 == 0):\n",
    "        print(c)\n",
    "    c=c+1"
   ]
  },
  {
   "cell_type": "code",
   "execution_count": 10,
   "metadata": {},
   "outputs": [
    {
     "name": "stdout",
     "output_type": "stream",
     "text": [
      "18,53,59,34,71,72,83,52,9,20,"
     ]
    }
   ],
   "source": [
    "#print 10 random no\n",
    "from random import randint\n",
    "c=1\n",
    "while c <= 10 :\n",
    "    print(randint(1,100),end=\",\")\n",
    "    c=c+1\n",
    "    "
   ]
  },
  {
   "cell_type": "code",
   "execution_count": 13,
   "metadata": {},
   "outputs": [
    {
     "name": "stdout",
     "output_type": "stream",
     "text": [
      "1\n",
      "1\n",
      "6\n",
      "2\n",
      "2\n",
      "2\n",
      "6\n",
      "2\n",
      "7\n",
      "9\n"
     ]
    }
   ],
   "source": [
    "from random import randint\n",
    "c=1\n",
    "while c<=10:\n",
    "    print(randint(1,10))\n",
    "    c=c+1"
   ]
  },
  {
   "cell_type": "code",
   "execution_count": 3,
   "metadata": {},
   "outputs": [
    {
     "name": "stdout",
     "output_type": "stream",
     "text": [
      "1\n",
      "2\n",
      "3\n",
      "4\n"
     ]
    }
   ],
   "source": [
    "c=1\n",
    "while c<=10:\n",
    "    if c==5:\n",
    "        break     \n",
    "    print(c)\n",
    "    c=c+1"
   ]
  },
  {
   "cell_type": "code",
   "execution_count": 28,
   "metadata": {},
   "outputs": [
    {
     "name": "stdout",
     "output_type": "stream",
     "text": [
      "enter the no54\n",
      "bye world\n"
     ]
    }
   ],
   "source": [
    "num=int(input(\"enter the no\"))\n",
    "while num :\n",
    "    if num>=1 and num<=50 :\n",
    "        print('Hello world')\n",
    "        num=int(input(\"enter the no\"))\n",
    "    else :\n",
    "        print(\"bye world\")\n",
    "        break\n",
    "        \n",
    "     "
   ]
  },
  {
   "cell_type": "code",
   "execution_count": null,
   "metadata": {},
   "outputs": [],
   "source": []
  },
  {
   "cell_type": "code",
   "execution_count": null,
   "metadata": {},
   "outputs": [],
   "source": []
  }
 ],
 "metadata": {
  "kernelspec": {
   "display_name": "Python 3",
   "language": "python",
   "name": "python3"
  },
  "language_info": {
   "codemirror_mode": {
    "name": "ipython",
    "version": 3
   },
   "file_extension": ".py",
   "mimetype": "text/x-python",
   "name": "python",
   "nbconvert_exporter": "python",
   "pygments_lexer": "ipython3",
   "version": "3.6.4"
  }
 },
 "nbformat": 4,
 "nbformat_minor": 2
}
