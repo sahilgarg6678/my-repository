{
 "cells": [
  {
   "cell_type": "code",
   "execution_count": 1,
   "metadata": {},
   "outputs": [
    {
     "ename": "SyntaxError",
     "evalue": "invalid syntax (<ipython-input-1-cba231db9a0b>, line 27)",
     "output_type": "error",
     "traceback": [
      "\u001b[1;36m  File \u001b[1;32m\"<ipython-input-1-cba231db9a0b>\"\u001b[1;36m, line \u001b[1;32m27\u001b[0m\n\u001b[1;33m    elif(choice==2):\u001b[0m\n\u001b[1;37m       ^\u001b[0m\n\u001b[1;31mSyntaxError\u001b[0m\u001b[1;31m:\u001b[0m invalid syntax\n"
     ]
    }
   ],
   "source": [
    "from getpass import getpass\n",
    "string=\"welcome\"\n",
    "new_string=string.center(100,\"*\")\n",
    "user1={\"name\":\"john\",\"account-no\":3253646764,\"password\":\"@john@\",\"amount\":34532}\n",
    "user2={\"name\":\"sahil\",\"account_no\":342145678,\"password\":\"@sahil@\",\"amount\":5436}\n",
    "user3={\"name\":\"shreya\",\"account_no\":645448665,\"password\":\"@shreya@\",\"amount\":543096}\n",
    "user4={\"name\":\"kajal\",\"account_no\":37853221,\"password\":\"@kajal@\",\"amount\":543}\n",
    "print(\"\",new_string)\n",
    "print(\"1.login\")\n",
    "print(\"2.sign up\")\n",
    "print(\"3.exit\")\n",
    "choice=int(input(\"enter your choice\"))\n",
    "def main_menu():\n",
    "    if(choice==1):\n",
    "        password=getpass(input(\"enter your password : \"))\n",
    "    if password==\"@sahil@\" or \"@john@\" or \"@shreya@\" or \"@kajal@\":\n",
    "        print(data)\n",
    "        print(\"1.debit\")\n",
    "        print(\"2.credit\")\n",
    "        print(\"3.checkbalance\")\n",
    "        print(\"4.update passbook\")\n",
    "        choice=int(input(\"enter a choice\"))\n",
    "        if(choice==1):\n",
    "            print(input(\"how many amount you want to debited : \"))\n",
    "            print(input(\"enter your password\"))\n",
    "            print(\"your amount is debited\")\n",
    "            elif(choice==2):\n",
    "            print(input(\"how many amount you want to credited\"))\n",
    "            print(input(\"enter your password\"))\n",
    "            print(\"your amount is credited\")\n",
    "            elif(choice==3):\n",
    "            print(input(\"enter password\"))\n",
    "            print(\"your balance is : \")\n",
    "            elif(choice==4):\n",
    "            print(\"your passbook is updated\")\n",
    "    else:\n",
    "        print(\"password is invalid\")\n",
    "        main_menu()\n",
    "        elif (choice==2):\n",
    "            print(\"sign up your account\")\n",
    "            input(\"enter your name : \")\n",
    "            input(\"enter your password : \")\n",
    "            input(\"enter your OTP : \")\n",
    "            print(\"congrutulation! you have signup successfully\")\n",
    "            flag=1\n",
    "            account_no = 1000+flag\n",
    "            print(\"your account no is : \",account_no)\n",
    "        elif (choice == 3):\n",
    "        print(\".......................thanks! for using bank service..........................\")\n",
    "    \n",
    "    \n",
    "     \n",
    "\n"
   ]
  },
  {
   "cell_type": "code",
   "execution_count": 1,
   "metadata": {},
   "outputs": [],
   "source": [
    "import shelve"
   ]
  },
  {
   "cell_type": "code",
   "execution_count": 2,
   "metadata": {},
   "outputs": [
    {
     "data": {
      "text/plain": [
       "['BsdDbShelf',\n",
       " 'BytesIO',\n",
       " 'DbfilenameShelf',\n",
       " 'Pickler',\n",
       " 'Shelf',\n",
       " 'Unpickler',\n",
       " '_ClosedDict',\n",
       " '__all__',\n",
       " '__builtins__',\n",
       " '__cached__',\n",
       " '__doc__',\n",
       " '__file__',\n",
       " '__loader__',\n",
       " '__name__',\n",
       " '__package__',\n",
       " '__spec__',\n",
       " 'collections',\n",
       " 'open']"
      ]
     },
     "execution_count": 2,
     "metadata": {},
     "output_type": "execute_result"
    }
   ],
   "source": [
    "dir(shelve)"
   ]
  },
  {
   "cell_type": "code",
   "execution_count": 5,
   "metadata": {},
   "outputs": [],
   "source": [
    "import os\n",
    "os.mkdir(\"sahilgarg.db\")\n"
   ]
  },
  {
   "cell_type": "code",
   "execution_count": 6,
   "metadata": {},
   "outputs": [],
   "source": [
    "data=shelve.open(\"sahilgarg.db\")"
   ]
  },
  {
   "cell_type": "code",
   "execution_count": 7,
   "metadata": {},
   "outputs": [
    {
     "name": "stdout",
     "output_type": "stream",
     "text": [
      "<class 'shelve.DbfilenameShelf'>\n"
     ]
    }
   ],
   "source": [
    "print(type(data))"
   ]
  },
  {
   "cell_type": "code",
   "execution_count": 8,
   "metadata": {},
   "outputs": [],
   "source": [
    "data.close()"
   ]
  },
  {
   "cell_type": "code",
   "execution_count": 45,
   "metadata": {},
   "outputs": [],
   "source": [
    "d={\"name\":\"sahil\"}"
   ]
  },
  {
   "cell_type": "code",
   "execution_count": 46,
   "metadata": {},
   "outputs": [],
   "source": [
    "data=shelve.open(\"sahilgarg.db\")"
   ]
  },
  {
   "cell_type": "code",
   "execution_count": 47,
   "metadata": {},
   "outputs": [],
   "source": [
    "data[\"sahil\"]=d"
   ]
  },
  {
   "cell_type": "code",
   "execution_count": 48,
   "metadata": {},
   "outputs": [],
   "source": [
    "data.close()"
   ]
  },
  {
   "cell_type": "code",
   "execution_count": 52,
   "metadata": {},
   "outputs": [],
   "source": [
    "data=shelve.open('sahilgarg.db')"
   ]
  },
  {
   "cell_type": "code",
   "execution_count": 53,
   "metadata": {},
   "outputs": [
    {
     "data": {
      "text/plain": [
       "{'name': 'sahil'}"
      ]
     },
     "execution_count": 53,
     "metadata": {},
     "output_type": "execute_result"
    }
   ],
   "source": [
    "data.get('sahil')"
   ]
  },
  {
   "cell_type": "code",
   "execution_count": 68,
   "metadata": {},
   "outputs": [],
   "source": [
    "from getpass import getpass\n",
    "def main_menu():\n",
    "    s=\"\"\"1.login\\n2.signup\\n3.exit\"\"\"\n",
    "    print(s)\n",
    "    ch==1:\n",
    "        acc_no=input(\"enter your account no\")\n",
    "        password=getpass(\"enter your password\")\n",
    "        if login(acc_no,password):\n",
    "            menu(acc_no)\n",
    "        else:\n",
    "            main_menu()"
   ]
  },
  {
   "cell_type": "code",
   "execution_count": null,
   "metadata": {},
   "outputs": [],
   "source": [
    "def update_password()"
   ]
  },
  {
   "cell_type": "markdown",
   "metadata": {},
   "source": [
    "# by the use of function we have make the app of bank\n"
   ]
  },
  {
   "cell_type": "code",
   "execution_count": 53,
   "metadata": {},
   "outputs": [
    {
     "ename": "FileExistsError",
     "evalue": "[WinError 183] Cannot create a file when that file already exists: 'banksahil'",
     "output_type": "error",
     "traceback": [
      "\u001b[1;31m---------------------------------------------------------------------------\u001b[0m",
      "\u001b[1;31mFileExistsError\u001b[0m                           Traceback (most recent call last)",
      "\u001b[1;32m<ipython-input-53-19e5cc4d48d6>\u001b[0m in \u001b[0;36m<module>\u001b[1;34m()\u001b[0m\n\u001b[0;32m      1\u001b[0m \u001b[1;32mimport\u001b[0m \u001b[0mos\u001b[0m\u001b[1;33m\u001b[0m\u001b[0m\n\u001b[1;32m----> 2\u001b[1;33m \u001b[0mos\u001b[0m\u001b[1;33m.\u001b[0m\u001b[0mmkdir\u001b[0m\u001b[1;33m(\u001b[0m\u001b[1;34m\"banksahil\"\u001b[0m\u001b[1;33m)\u001b[0m\u001b[1;33m\u001b[0m\u001b[0m\n\u001b[0m\u001b[0;32m      3\u001b[0m \u001b[1;32mimport\u001b[0m \u001b[0mshelve\u001b[0m\u001b[1;33m\u001b[0m\u001b[0m\n\u001b[0;32m      4\u001b[0m \u001b[0macc1\u001b[0m \u001b[1;33m=\u001b[0m\u001b[1;33m{\u001b[0m\u001b[1;34m'name'\u001b[0m\u001b[1;33m:\u001b[0m\u001b[1;34m\"sahil\"\u001b[0m\u001b[1;33m,\u001b[0m\u001b[1;34m\"bal\"\u001b[0m\u001b[1;33m:\u001b[0m\u001b[1;34m\"2000\"\u001b[0m\u001b[1;33m,\u001b[0m\u001b[1;34m\"password\"\u001b[0m\u001b[1;33m:\u001b[0m\u001b[1;34m\"@ok@\"\u001b[0m\u001b[1;33m}\u001b[0m\u001b[1;33m\u001b[0m\u001b[0m\n\u001b[0;32m      5\u001b[0m \u001b[0macc2\u001b[0m\u001b[1;33m=\u001b[0m\u001b[1;33m{\u001b[0m\u001b[1;34m\"name\"\u001b[0m\u001b[1;33m:\u001b[0m\u001b[1;34m\"shreya\"\u001b[0m\u001b[1;33m,\u001b[0m\u001b[1;34m\"bal\"\u001b[0m\u001b[1;33m:\u001b[0m\u001b[1;34m\"30000\"\u001b[0m\u001b[1;33m,\u001b[0m\u001b[1;34m\"pass\"\u001b[0m\u001b[1;33m:\u001b[0m\u001b[1;34m\"@goyal@\"\u001b[0m\u001b[1;33m}\u001b[0m\u001b[1;33m\u001b[0m\u001b[0m\n",
      "\u001b[1;31mFileExistsError\u001b[0m: [WinError 183] Cannot create a file when that file already exists: 'banksahil'"
     ]
    }
   ],
   "source": [
    "import os\n",
    "os.mkdir(\"banksahil\")\n",
    "import shelve\n",
    "acc1 ={'name':\"sahil\",\"bal\":\"2000\",\"password\":\"@ok@\"}\n",
    "acc2={\"name\":\"shreya\",\"bal\":\"30000\",\"pass\":\"@goyal@\"}\n",
    "acc3={\"name\":\"neha\",\"bal\":\"10000\",\"pass\":\"@12345@\"}\n",
    "\n",
    "db=shelve.open(\"banksahil/banks.db\")\n",
    "db[\"1001\"]=acc1\n",
    "db['1002']=acc2\n",
    "db[\"1003\"]=acc3\n",
    "\n",
    "db.close()\n"
   ]
  },
  {
   "cell_type": "code",
   "execution_count": null,
   "metadata": {},
   "outputs": [],
   "source": []
  },
  {
   "cell_type": "code",
   "execution_count": null,
   "metadata": {},
   "outputs": [],
   "source": []
  }
 ],
 "metadata": {
  "kernelspec": {
   "display_name": "Python 3",
   "language": "python",
   "name": "python3"
  },
  "language_info": {
   "codemirror_mode": {
    "name": "ipython",
    "version": 3
   },
   "file_extension": ".py",
   "mimetype": "text/x-python",
   "name": "python",
   "nbconvert_exporter": "python",
   "pygments_lexer": "ipython3",
   "version": "3.6.4"
  }
 },
 "nbformat": 4,
 "nbformat_minor": 2
}
